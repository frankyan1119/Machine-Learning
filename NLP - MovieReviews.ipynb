{
  "cells": [
    {
      "metadata": {
        "_uuid": "8f2839f25d086af736a60e9eeb907d3b93b6e0e5",
        "_cell_guid": "b1076dfc-b9ad-4769-8c92-a6c4dae69d19",
        "trusted": true
      },
      "cell_type": "code",
      "source": "import numpy as np # linear algebra\nimport pandas as pd # data processing, CSV file I/O (e.g. pd.read_csv)\nimport warnings\nwarnings.filterwarnings(\"ignore\")\n\nimport os\nprint(os.listdir(\"../input\"))",
      "execution_count": 46,
      "outputs": [
        {
          "output_type": "stream",
          "text": "['testData.tsv', 'sampleSubmission.csv', 'labeledTrainData.tsv', 'unlabeledTrainData.tsv']\n",
          "name": "stdout"
        }
      ]
    },
    {
      "metadata": {
        "_cell_guid": "79c7e3d0-c299-4dcb-8224-4455121ee9b0",
        "_uuid": "d629ff2d2480ee46fbb7e2d37f6b5fab8052498a",
        "trusted": true
      },
      "cell_type": "code",
      "source": "train = pd.read_csv(\"../input/labeledTrainData.tsv\", header = 0, delimiter = '\\t')\ntest = pd.read_csv(\"../input/testData.tsv\", header = 0, delimiter = '\\t')",
      "execution_count": 47,
      "outputs": []
    },
    {
      "metadata": {
        "trusted": true,
        "_uuid": "d5c9327689c33af01f6638ff00d53edee9d409de"
      },
      "cell_type": "code",
      "source": "print(\"Train set: \", train.shape, \"Test set: \", test.shape)",
      "execution_count": 48,
      "outputs": [
        {
          "output_type": "stream",
          "text": "Train set:  (25000, 3) Test set:  (25000, 2)\n",
          "name": "stdout"
        }
      ]
    },
    {
      "metadata": {
        "trusted": true,
        "_uuid": "c8e3cb70f3238fc3d545456a9c9753a8db49a7d9"
      },
      "cell_type": "code",
      "source": "train['length'] = train['review'].apply(len)\ntrain.head()",
      "execution_count": 49,
      "outputs": [
        {
          "output_type": "execute_result",
          "execution_count": 49,
          "data": {
            "text/plain": "       id   ...    length\n0  5814_8   ...      2302\n1  2381_9   ...       946\n2  7759_3   ...      2449\n3  3630_4   ...      2245\n4  9495_8   ...      2231\n\n[5 rows x 4 columns]",
            "text/html": "<div>\n<style scoped>\n    .dataframe tbody tr th:only-of-type {\n        vertical-align: middle;\n    }\n\n    .dataframe tbody tr th {\n        vertical-align: top;\n    }\n\n    .dataframe thead th {\n        text-align: right;\n    }\n</style>\n<table border=\"1\" class=\"dataframe\">\n  <thead>\n    <tr style=\"text-align: right;\">\n      <th></th>\n      <th>id</th>\n      <th>sentiment</th>\n      <th>review</th>\n      <th>length</th>\n    </tr>\n  </thead>\n  <tbody>\n    <tr>\n      <th>0</th>\n      <td>5814_8</td>\n      <td>1</td>\n      <td>With all this stuff going down at the moment w...</td>\n      <td>2302</td>\n    </tr>\n    <tr>\n      <th>1</th>\n      <td>2381_9</td>\n      <td>1</td>\n      <td>\\The Classic War of the Worlds\\\" by Timothy Hi...</td>\n      <td>946</td>\n    </tr>\n    <tr>\n      <th>2</th>\n      <td>7759_3</td>\n      <td>0</td>\n      <td>The film starts with a manager (Nicholas Bell)...</td>\n      <td>2449</td>\n    </tr>\n    <tr>\n      <th>3</th>\n      <td>3630_4</td>\n      <td>0</td>\n      <td>It must be assumed that those who praised this...</td>\n      <td>2245</td>\n    </tr>\n    <tr>\n      <th>4</th>\n      <td>9495_8</td>\n      <td>1</td>\n      <td>Superbly trashy and wondrously unpretentious 8...</td>\n      <td>2231</td>\n    </tr>\n  </tbody>\n</table>\n</div>"
          },
          "metadata": {}
        }
      ]
    },
    {
      "metadata": {
        "_uuid": "f329b2dacfc05cb80afb69e82a0ceb07c624c9e0"
      },
      "cell_type": "markdown",
      "source": "## Sentiment: \n1 - Positive            0 - Negative"
    },
    {
      "metadata": {
        "trusted": true,
        "_uuid": "0efb1d0a9446d76e45ad37f3200a15577445f899"
      },
      "cell_type": "code",
      "source": "train.groupby('sentiment').describe()",
      "execution_count": 50,
      "outputs": [
        {
          "output_type": "execute_result",
          "execution_count": 50,
          "data": {
            "text/plain": "            length                            ...                            \n             count        mean          std   ...       50%      75%      max\nsentiment                                     ...                            \n0          12500.0  1305.72192   959.142634   ...     978.0  1569.25   8999.0\n1          12500.0  1349.69920  1048.890394   ...     984.0  1653.00  13708.0\n\n[2 rows x 8 columns]",
            "text/html": "<div>\n<style scoped>\n    .dataframe tbody tr th:only-of-type {\n        vertical-align: middle;\n    }\n\n    .dataframe tbody tr th {\n        vertical-align: top;\n    }\n\n    .dataframe thead tr th {\n        text-align: left;\n    }\n\n    .dataframe thead tr:last-of-type th {\n        text-align: right;\n    }\n</style>\n<table border=\"1\" class=\"dataframe\">\n  <thead>\n    <tr>\n      <th></th>\n      <th colspan=\"8\" halign=\"left\">length</th>\n    </tr>\n    <tr>\n      <th></th>\n      <th>count</th>\n      <th>mean</th>\n      <th>std</th>\n      <th>min</th>\n      <th>25%</th>\n      <th>50%</th>\n      <th>75%</th>\n      <th>max</th>\n    </tr>\n    <tr>\n      <th>sentiment</th>\n      <th></th>\n      <th></th>\n      <th></th>\n      <th></th>\n      <th></th>\n      <th></th>\n      <th></th>\n      <th></th>\n    </tr>\n  </thead>\n  <tbody>\n    <tr>\n      <th>0</th>\n      <td>12500.0</td>\n      <td>1305.72192</td>\n      <td>959.142634</td>\n      <td>52.0</td>\n      <td>711.0</td>\n      <td>978.0</td>\n      <td>1569.25</td>\n      <td>8999.0</td>\n    </tr>\n    <tr>\n      <th>1</th>\n      <td>12500.0</td>\n      <td>1349.69920</td>\n      <td>1048.890394</td>\n      <td>70.0</td>\n      <td>695.0</td>\n      <td>984.0</td>\n      <td>1653.00</td>\n      <td>13708.0</td>\n    </tr>\n  </tbody>\n</table>\n</div>"
          },
          "metadata": {}
        }
      ]
    },
    {
      "metadata": {
        "_uuid": "5e6ef744e0a08ba46658b5068388939e662acd6b"
      },
      "cell_type": "markdown",
      "source": "## No strong correlation between sentiment and length"
    },
    {
      "metadata": {
        "trusted": true,
        "_uuid": "9f51c9a323d64d9e4f2b48c73b2cf0b799346117"
      },
      "cell_type": "code",
      "source": "train.drop(['length'], axis=1, inplace=True)",
      "execution_count": 51,
      "outputs": []
    },
    {
      "metadata": {
        "trusted": true,
        "_uuid": "08596aef00df104fdaa12ea62af2c42017a937cf"
      },
      "cell_type": "code",
      "source": "test.head()",
      "execution_count": 52,
      "outputs": [
        {
          "output_type": "execute_result",
          "execution_count": 52,
          "data": {
            "text/plain": "         id                                             review\n0  12311_10  Naturally in a film who's main themes are of m...\n1    8348_2  This movie is a disaster within a disaster fil...\n2    5828_4  All in all, this is a movie for kids. We saw i...\n3    7186_2  Afraid of the Dark left me with the impression...\n4   12128_7  A very accurate depiction of small time mob li...",
            "text/html": "<div>\n<style scoped>\n    .dataframe tbody tr th:only-of-type {\n        vertical-align: middle;\n    }\n\n    .dataframe tbody tr th {\n        vertical-align: top;\n    }\n\n    .dataframe thead th {\n        text-align: right;\n    }\n</style>\n<table border=\"1\" class=\"dataframe\">\n  <thead>\n    <tr style=\"text-align: right;\">\n      <th></th>\n      <th>id</th>\n      <th>review</th>\n    </tr>\n  </thead>\n  <tbody>\n    <tr>\n      <th>0</th>\n      <td>12311_10</td>\n      <td>Naturally in a film who's main themes are of m...</td>\n    </tr>\n    <tr>\n      <th>1</th>\n      <td>8348_2</td>\n      <td>This movie is a disaster within a disaster fil...</td>\n    </tr>\n    <tr>\n      <th>2</th>\n      <td>5828_4</td>\n      <td>All in all, this is a movie for kids. We saw i...</td>\n    </tr>\n    <tr>\n      <th>3</th>\n      <td>7186_2</td>\n      <td>Afraid of the Dark left me with the impression...</td>\n    </tr>\n    <tr>\n      <th>4</th>\n      <td>12128_7</td>\n      <td>A very accurate depiction of small time mob li...</td>\n    </tr>\n  </tbody>\n</table>\n</div>"
          },
          "metadata": {}
        }
      ]
    },
    {
      "metadata": {
        "trusted": true,
        "_uuid": "065edd0e93970d9de00a529fc7a0df7dfd73da7b"
      },
      "cell_type": "code",
      "source": "from bs4 import BeautifulSoup\nimport re\nfrom nltk.corpus import stopwords",
      "execution_count": 53,
      "outputs": []
    },
    {
      "metadata": {
        "trusted": true,
        "_uuid": "aa4c70119da514dfafdece83d3c31fec1796ce3e"
      },
      "cell_type": "code",
      "source": "# Initialize the BeautifulSoup object   \nbs_review1 = BeautifulSoup(train[\"review\"][0])\n\nalph_only = re.sub(\"[^a-zA-Z]\", \" \", bs_review1.get_text())  #Replace all non-alphabetical letters\nwords = alph_only.lower().split()\nwords = [w for w in words if not w in stopwords.words(\"english\")] #Remove \"stop words\"\nprint(words)",
      "execution_count": 54,
      "outputs": [
        {
          "output_type": "stream",
          "text": "['stuff', 'going', 'moment', 'mj', 'started', 'listening', 'music', 'watching', 'odd', 'documentary', 'watched', 'wiz', 'watched', 'moonwalker', 'maybe', 'want', 'get', 'certain', 'insight', 'guy', 'thought', 'really', 'cool', 'eighties', 'maybe', 'make', 'mind', 'whether', 'guilty', 'innocent', 'moonwalker', 'part', 'biography', 'part', 'feature', 'film', 'remember', 'going', 'see', 'cinema', 'originally', 'released', 'subtle', 'messages', 'mj', 'feeling', 'towards', 'press', 'also', 'obvious', 'message', 'drugs', 'bad', 'kay', 'visually', 'impressive', 'course', 'michael', 'jackson', 'unless', 'remotely', 'like', 'mj', 'anyway', 'going', 'hate', 'find', 'boring', 'may', 'call', 'mj', 'egotist', 'consenting', 'making', 'movie', 'mj', 'fans', 'would', 'say', 'made', 'fans', 'true', 'really', 'nice', 'actual', 'feature', 'film', 'bit', 'finally', 'starts', 'minutes', 'excluding', 'smooth', 'criminal', 'sequence', 'joe', 'pesci', 'convincing', 'psychopathic', 'powerful', 'drug', 'lord', 'wants', 'mj', 'dead', 'bad', 'beyond', 'mj', 'overheard', 'plans', 'nah', 'joe', 'pesci', 'character', 'ranted', 'wanted', 'people', 'know', 'supplying', 'drugs', 'etc', 'dunno', 'maybe', 'hates', 'mj', 'music', 'lots', 'cool', 'things', 'like', 'mj', 'turning', 'car', 'robot', 'whole', 'speed', 'demon', 'sequence', 'also', 'director', 'must', 'patience', 'saint', 'came', 'filming', 'kiddy', 'bad', 'sequence', 'usually', 'directors', 'hate', 'working', 'one', 'kid', 'let', 'alone', 'whole', 'bunch', 'performing', 'complex', 'dance', 'scene', 'bottom', 'line', 'movie', 'people', 'like', 'mj', 'one', 'level', 'another', 'think', 'people', 'stay', 'away', 'try', 'give', 'wholesome', 'message', 'ironically', 'mj', 'bestest', 'buddy', 'movie', 'girl', 'michael', 'jackson', 'truly', 'one', 'talented', 'people', 'ever', 'grace', 'planet', 'guilty', 'well', 'attention', 'gave', 'subject', 'hmmm', 'well', 'know', 'people', 'different', 'behind', 'closed', 'doors', 'know', 'fact', 'either', 'extremely', 'nice', 'stupid', 'guy', 'one', 'sickest', 'liars', 'hope', 'latter']\n",
          "name": "stdout"
        }
      ]
    },
    {
      "metadata": {
        "trusted": true,
        "_uuid": "6c629fcb6e8e761a83968dc13399cc51ab2ff420"
      },
      "cell_type": "code",
      "source": "def review_to_words(reviews):\n    #Remove HTML\n    reviews = BeautifulSoup(reviews).get_text() \n    \n    #Remove non-alphabetical letters        \n    alpha_only = re.sub(\"[^a-zA-Z]\", \" \", reviews) \n    \n    #Convert to lower case and split into individual words\n    words = alpha_only.lower().split()                             \n    \n    #Remove \"stop words\"\n    words = [w for w in words if not w in stopwords.words(\"english\")]   \n\n    #Join words separate by spaces\n    return(' '.join(words))",
      "execution_count": 55,
      "outputs": []
    },
    {
      "metadata": {
        "trusted": true,
        "_uuid": "3804ad9febbac76a458d428cc65c5707a0e0fa67"
      },
      "cell_type": "code",
      "source": "review = review_to_words(train[\"review\"][0])\nprint(review)",
      "execution_count": 56,
      "outputs": [
        {
          "output_type": "stream",
          "text": "stuff going moment mj started listening music watching odd documentary watched wiz watched moonwalker maybe want get certain insight guy thought really cool eighties maybe make mind whether guilty innocent moonwalker part biography part feature film remember going see cinema originally released subtle messages mj feeling towards press also obvious message drugs bad kay visually impressive course michael jackson unless remotely like mj anyway going hate find boring may call mj egotist consenting making movie mj fans would say made fans true really nice actual feature film bit finally starts minutes excluding smooth criminal sequence joe pesci convincing psychopathic powerful drug lord wants mj dead bad beyond mj overheard plans nah joe pesci character ranted wanted people know supplying drugs etc dunno maybe hates mj music lots cool things like mj turning car robot whole speed demon sequence also director must patience saint came filming kiddy bad sequence usually directors hate working one kid let alone whole bunch performing complex dance scene bottom line movie people like mj one level another think people stay away try give wholesome message ironically mj bestest buddy movie girl michael jackson truly one talented people ever grace planet guilty well attention gave subject hmmm well know people different behind closed doors know fact either extremely nice stupid guy one sickest liars hope latter\n",
          "name": "stdout"
        }
      ]
    },
    {
      "metadata": {
        "trusted": true,
        "_uuid": "92282d8e8e4f912f7e47a710ea6c3a7a87a43c17"
      },
      "cell_type": "code",
      "source": "#Modify all reviews using the above approach\ntrain['review'] = train['review'].apply(review_to_words)",
      "execution_count": 57,
      "outputs": []
    },
    {
      "metadata": {
        "trusted": true,
        "_uuid": "22cd077ff3a09b3b1bc9c8966d3d70b043afe423"
      },
      "cell_type": "code",
      "source": "from sklearn.feature_extraction.text import CountVectorizer\n#Create word count matrices\nvectorizer = CountVectorizer(analyzer = \"word\", tokenizer = None, preprocessor = None, stop_words = None, max_features = 5000)\ntrain_features = vectorizer.fit_transform(train['review'])",
      "execution_count": 58,
      "outputs": []
    },
    {
      "metadata": {
        "trusted": true,
        "_uuid": "eac9428135b11d92fc6fb262e870e6e5cb04d478"
      },
      "cell_type": "code",
      "source": "train_features = train_features.toarray()",
      "execution_count": 59,
      "outputs": []
    },
    {
      "metadata": {
        "trusted": true,
        "_uuid": "1e0af69268d355b8399d237390aae90e1d94fd6d"
      },
      "cell_type": "code",
      "source": "train_features.shape",
      "execution_count": 60,
      "outputs": [
        {
          "output_type": "execute_result",
          "execution_count": 60,
          "data": {
            "text/plain": "(25000, 5000)"
          },
          "metadata": {}
        }
      ]
    },
    {
      "metadata": {
        "_uuid": "2deb74adeafd5a7ce6dcfab54de237f9adfd926f"
      },
      "cell_type": "markdown",
      "source": "## Modelling"
    },
    {
      "metadata": {
        "trusted": true,
        "_uuid": "b1d149c33fa1ec4977e5a3dcd223c3434dcfbb9b"
      },
      "cell_type": "code",
      "source": "from sklearn.naive_bayes import MultinomialNB\nfrom sklearn.model_selection import train_test_split\nfrom sklearn.metrics import classification_report\n\nX_train, X_val, y_train, y_val = train_test_split(train_features, train['sentiment'], test_size=0.3, random_state=42)",
      "execution_count": 92,
      "outputs": []
    },
    {
      "metadata": {
        "trusted": true,
        "_uuid": "9fe89a744aa0dbe1226a3e856dde191f38375226"
      },
      "cell_type": "code",
      "source": "model = MultinomialNB().fit(X_train, y_train)",
      "execution_count": 82,
      "outputs": []
    },
    {
      "metadata": {
        "trusted": true,
        "_uuid": "cdec74d8638018da0f6fc703461bcf1cd1d35620"
      },
      "cell_type": "code",
      "source": "pre = model.predict(X_val)",
      "execution_count": 109,
      "outputs": []
    },
    {
      "metadata": {
        "trusted": true,
        "_uuid": "dc7a30c1626891dda14cba76658e80bf1bf07ea5"
      },
      "cell_type": "code",
      "source": "print(classification_report(pre, y_val))",
      "execution_count": 110,
      "outputs": [
        {
          "output_type": "stream",
          "text": "             precision    recall  f1-score   support\n\n          0       0.85      0.85      0.85      3759\n          1       0.85      0.85      0.85      3741\n\navg / total       0.85      0.85      0.85      7500\n\n",
          "name": "stdout"
        }
      ]
    },
    {
      "metadata": {
        "_uuid": "82c5836dafea72ecfc69308bde4e41312a4d3ddd"
      },
      "cell_type": "markdown",
      "source": "## Final Prediction"
    },
    {
      "metadata": {
        "trusted": true,
        "_uuid": "5f9f996f30990267c12300872adbd1cfacdaf911"
      },
      "cell_type": "code",
      "source": "test.head()",
      "execution_count": 87,
      "outputs": [
        {
          "output_type": "execute_result",
          "execution_count": 87,
          "data": {
            "text/plain": "         id                                             review\n0  12311_10  Naturally in a film who's main themes are of m...\n1    8348_2  This movie is a disaster within a disaster fil...\n2    5828_4  All in all, this is a movie for kids. We saw i...\n3    7186_2  Afraid of the Dark left me with the impression...\n4   12128_7  A very accurate depiction of small time mob li...",
            "text/html": "<div>\n<style scoped>\n    .dataframe tbody tr th:only-of-type {\n        vertical-align: middle;\n    }\n\n    .dataframe tbody tr th {\n        vertical-align: top;\n    }\n\n    .dataframe thead th {\n        text-align: right;\n    }\n</style>\n<table border=\"1\" class=\"dataframe\">\n  <thead>\n    <tr style=\"text-align: right;\">\n      <th></th>\n      <th>id</th>\n      <th>review</th>\n    </tr>\n  </thead>\n  <tbody>\n    <tr>\n      <th>0</th>\n      <td>12311_10</td>\n      <td>Naturally in a film who's main themes are of m...</td>\n    </tr>\n    <tr>\n      <th>1</th>\n      <td>8348_2</td>\n      <td>This movie is a disaster within a disaster fil...</td>\n    </tr>\n    <tr>\n      <th>2</th>\n      <td>5828_4</td>\n      <td>All in all, this is a movie for kids. We saw i...</td>\n    </tr>\n    <tr>\n      <th>3</th>\n      <td>7186_2</td>\n      <td>Afraid of the Dark left me with the impression...</td>\n    </tr>\n    <tr>\n      <th>4</th>\n      <td>12128_7</td>\n      <td>A very accurate depiction of small time mob li...</td>\n    </tr>\n  </tbody>\n</table>\n</div>"
          },
          "metadata": {}
        }
      ]
    },
    {
      "metadata": {
        "trusted": true,
        "_uuid": "a0381953bf13f016b1028c7349ae566fa9538b96"
      },
      "cell_type": "code",
      "source": "#Preparing final input data\ntest_reviews = test['review'].apply(review_to_words)\ntest_reviews = vectorizer.fit_transform(test_reviews)\ntest_reviews = test_reviews.toarray()\n\nresult = model.predict(test_reviews)\n\nids = test['id']\n\nresult_df = pd.DataFrame({'id':ids, 'sentiments':result})",
      "execution_count": 88,
      "outputs": []
    },
    {
      "metadata": {
        "trusted": true,
        "_uuid": "343e99daa4c6819836740979c8fce2ba71efe28c"
      },
      "cell_type": "code",
      "source": "result_df.to_csv( \"result.csv\", index=False, quoting=3 )",
      "execution_count": 91,
      "outputs": []
    },
    {
      "metadata": {
        "_uuid": "18d2638d0d4dcef567df04a64884816f5e9727e0"
      },
      "cell_type": "markdown",
      "source": ""
    }
  ],
  "metadata": {
    "kernelspec": {
      "display_name": "Python 3",
      "language": "python",
      "name": "python3"
    },
    "language_info": {
      "name": "python",
      "version": "3.6.6",
      "mimetype": "text/x-python",
      "codemirror_mode": {
        "name": "ipython",
        "version": 3
      },
      "pygments_lexer": "ipython3",
      "nbconvert_exporter": "python",
      "file_extension": ".py"
    }
  },
  "nbformat": 4,
  "nbformat_minor": 1
}